{
 "cells": [
  {
   "cell_type": "markdown",
   "metadata": {},
   "source": [
    "## Parker Wind Solution by Phase Plane Analysis"
   ]
  },
  {
   "cell_type": "code",
   "execution_count": 1,
   "metadata": {},
   "outputs": [],
   "source": [
    "import numpy as np\n",
    "from scipy.optimize import root\n",
    "from scipy.optimize import approx_fprime\n",
    "from numpy.linalg import eig\n",
    "from scipy.integrate import odeint\n",
    "import matplotlib.pyplot as plt\n",
    "import pylab"
   ]
  },
  {
   "cell_type": "code",
   "execution_count": 2,
   "metadata": {},
   "outputs": [
    {
     "name": "stderr",
     "output_type": "stream",
     "text": [
      "/home/kawahara/anaconda3/lib/python3.7/site-packages/ipykernel_launcher.py:3: RuntimeWarning: divide by zero encountered in log\n",
      "  This is separate from the ipykernel package so we can avoid doing imports until\n",
      "/home/kawahara/anaconda3/lib/python3.7/site-packages/ipykernel_launcher.py:3: RuntimeWarning: divide by zero encountered in double_scalars\n",
      "  This is separate from the ipykernel package so we can avoid doing imports until\n",
      "/home/kawahara/anaconda3/lib/python3.7/site-packages/ipykernel_launcher.py:3: RuntimeWarning: invalid value encountered in double_scalars\n",
      "  This is separate from the ipykernel package so we can avoid doing imports until\n"
     ]
    }
   ],
   "source": [
    "# analytic solution\n",
    "def parkerc(r,v):\n",
    "    return 0.5*v*v - np.log(v) - 2.0*np.log(r) -2/r\n",
    "\n",
    "r=np.linspace(0,3, 1000)\n",
    "v=np.linspace(0,3, 1000)\n",
    "c=[]\n",
    "for i in range(len(r)):\n",
    "    for j in range(len(v)):\n",
    "        c.append(parkerc(r[j], v[i]))\n",
    "c=np.array(c)\n",
    "Za=c.reshape(len(v), len(r))\n",
    "Xa, Ya=pylab.meshgrid(r, v) "
   ]
  },
  {
   "cell_type": "code",
   "execution_count": 3,
   "metadata": {},
   "outputs": [],
   "source": [
    "def f0(x):\n",
    "    return 0.5*(x[1] - 1/x[1])\n",
    "def f1(x):\n",
    "    return 1/x[0] - 1/x[0]**2\n",
    "\n",
    "crit=1.e-10\n",
    "def func(x,t,sign):\n",
    "    if x[0]<crit or x[1] < crit:\n",
    "        return np.array([0.0,0.0]) #stopping near the origin\n",
    "    else:\n",
    "        return np.array([sign*f0(x),sign*f1(x)])"
   ]
  },
  {
   "cell_type": "code",
   "execution_count": 4,
   "metadata": {},
   "outputs": [],
   "source": [
    "# finding the singular point\n",
    "sol1 = root(func, [0.5, 0.5],(1,1),method='broyden1')"
   ]
  },
  {
   "cell_type": "code",
   "execution_count": 5,
   "metadata": {},
   "outputs": [],
   "source": [
    "# compute Jacobian\n",
    "eps = np.sqrt(np.finfo(float).eps)\n",
    "epsx = [eps, np.sqrt(200) * eps]\n",
    "\n",
    "y0=approx_fprime(sol1.x, f0,epsx)\n",
    "y1=approx_fprime(sol1.x, f1,epsx)\n",
    "jac=np.array([y0,y1]).T\n",
    "lam,eigv=eig(jac)"
   ]
  },
  {
   "cell_type": "code",
   "execution_count": 17,
   "metadata": {},
   "outputs": [
    {
     "data": {
      "image/png": "[encoded data removed]",
      "text/plain": [
       "<Figure size 432x288 with 1 Axes>"
      ]
     },
     "metadata": {
      "needs_background": "light"
     },
     "output_type": "display_data"
    }
   ],
   "source": [
    "# phase plane analysis\n",
    "delta=0.01\n",
    "t=np.linspace(0,10,300)\n",
    "xsing=sol1.x\n",
    "fig=plt.figure()\n",
    "plt.contour(Xa, Ya, Za,[-1.5],colors='gray', linestyles='dashed',label=\"analytic solution\")\n",
    "for i,lameig in enumerate(lam):\n",
    "    sign=-np.sign(lameig)\n",
    "    for k,j in enumerate([-1,1]):\n",
    "        dv=j*eigv[i]*delta\n",
    "        X,Y=odeint(func,xsing+dv,t,args=(sign,)).T\n",
    "        plt.plot(X,Y,\".\",color=\"C\"+str(i),alpha=0.5,label=\"pywifi\")\n",
    "    #plt.plot(X[0:3],Y[0:3],\"+\",color=\"C\"+str(k),label=str(k))\n",
    "plt.plot([-1],[1],color=\"gray\",label=\"analytic solution\",ls=\"dashed\")\n",
    "plt.legend()\n",
    "plt.xlim(0,3)\n",
    "plt.ylim(0,3)\n",
    "plt.savefig(\"parker.png\")"
   ]
  },
  {
   "cell_type": "code",
   "execution_count": null,
   "metadata": {},
   "outputs": [],
   "source": []
  }
 ],
 "metadata": {
  "jupytext": {
   "main_language": "python",
   "text_representation": {
    "extension": ".py",
    "format_name": "light",
    "format_version": "1.3",
    "jupytext_version": "0.8.5"
   }
  },
  "kernelspec": {
   "display_name": "Python 3",
   "language": "python",
   "name": "python3"
  },
  "language_info": {
   "codemirror_mode": {
    "name": "ipython",
    "version": 3
   },
   "file_extension": ".py",
   "mimetype": "text/x-python",
   "name": "python",
   "nbconvert_exporter": "python",
   "pygments_lexer": "ipython3",
   "version": "3.7.1"
  },
  "toc": {
   "colors": {
    "hover_highlight": "#DAA520",
    "navigate_num": "#000000",
    "navigate_text": "#333333",
    "running_highlight": "#FF0000",
    "selected_highlight": "#FFD700",
    "sidebar_border": "#EEEEEE",
    "wrapper_background": "#FFFFFF"
   },
   "moveMenuLeft": true,
   "nav_menu": {
    "height": "36px",
    "width": "251px"
   },
   "navigate_menu": true,
   "number_sections": true,
   "sideBar": true,
   "threshold": 4,
   "toc_cell": false,
   "toc_section_display": "block",
   "toc_window_display": false,
   "widenNotebook": false
  }
 },
 "nbformat": 4,
 "nbformat_minor": 2
}
